{
 "cells": [
  {
   "cell_type": "markdown",
   "metadata": {},
   "source": [
    "## Inspect the transverse velocities of the dSphs to build prior for Crater II"
   ]
  },
  {
   "cell_type": "code",
   "execution_count": 6,
   "metadata": {
    "collapsed": false
   },
   "outputs": [],
   "source": [
    "import sys\n",
    "sys.path.append('../dSphs/code/')\n",
    "from data_stats_models import M31data, MWdata\n",
    "velocities = pd.read_csv('proper_motion_data.dat',sep=' ')\n",
    "import sys\n",
    "sys.path.append('../TGAS/')\n",
    "from sergey_2mass import ml_mb\n",
    "mw = MWdata().data\n",
    "from astropy.coordinates import SkyCoord\n",
    "import astropy.units as u\n",
    "with_vel = mw[mw.absV<-8.6].reset_index(drop=True)\n",
    "with_vel['ra'] = SkyCoord(with_vel['GLON'],with_vel['GLAT'],frame='galactic',unit=u.deg).icrs.ra.rad\n",
    "with_vel['dec'] = SkyCoord(with_vel['GLON'],with_vel['GLAT'],frame='galactic',unit=u.deg).icrs.dec.rad\n",
    "velocities=with_vel.merge(velocities,how='inner',on='Name')"
   ]
  },
  {
   "cell_type": "code",
   "execution_count": 12,
   "metadata": {
    "collapsed": false
   },
   "outputs": [],
   "source": [
    "import aa_py\n",
    "pot = aa_py.GalPot('/data/jls/tact/tact/aa/pot/PJM16_best.Tpot')\n",
    "Solar = np.array([8.2,0.014,11.1,12.24+np.sqrt(-8.2*pot.Forces(np.array([8.2,0.,0.]))[0]),7.25])\n",
    "cart = np.array([aa_py.GalacticToCartesian(aa_py.EquatorialToGalactic(np.array([a,d,s,vr,pma,pmd])),Solar)\n",
    "                for (a,d,s,vr,pma,pmd) in zip(velocities['ra'],velocities['dec'],np.power(10.,0.2*velocities['DistMod']-2.),\n",
    "                                            velocities['vlos'],velocities['pmra'],velocities['pmdec'])])"
   ]
  },
  {
   "cell_type": "code",
   "execution_count": 22,
   "metadata": {
    "collapsed": false
   },
   "outputs": [],
   "source": [
    "vr = np.sum([cart[:,i]*cart[:,i+3] for i in range(3)],axis=0)/np.sqrt(np.sum(cart[:,:3]**2,axis=1))\n",
    "vtotal = np.sqrt(np.sum(cart[:,3:]**2,axis=1))"
   ]
  },
  {
   "cell_type": "code",
   "execution_count": 23,
   "metadata": {
    "collapsed": false
   },
   "outputs": [],
   "source": [
    "vt = np.sqrt(vtotal**2-vr**2)"
   ]
  },
  {
   "cell_type": "code",
   "execution_count": 28,
   "metadata": {
    "collapsed": false
   },
   "outputs": [
    {
     "data": {
      "image/png": "[encoded data removed]",
      "text/plain": [
       "<matplotlib.figure.Figure at 0x7faa6d54b350>"
      ]
     },
     "metadata": {},
     "output_type": "display_data"
    }
   ],
   "source": [
    "plt.hist(vt);plt.show()"
   ]
  },
  {
   "cell_type": "code",
   "execution_count": 30,
   "metadata": {
    "collapsed": false
   },
   "outputs": [
    {
     "data": {
      "text/plain": [
       "123.06934039181785"
      ]
     },
     "execution_count": 30,
     "metadata": {},
     "output_type": "execute_result"
    }
   ],
   "source": [
    "np.mean(vt)/np.sqrt(2.)"
   ]
  },
  {
   "cell_type": "code",
   "execution_count": 31,
   "metadata": {
    "collapsed": false
   },
   "outputs": [
    {
     "data": {
      "text/plain": [
       "174.04633029441976"
      ]
     },
     "execution_count": 31,
     "metadata": {},
     "output_type": "execute_result"
    }
   ],
   "source": [
    "np.mean(vt)"
   ]
  },
  {
   "cell_type": "code",
   "execution_count": 42,
   "metadata": {
    "collapsed": true
   },
   "outputs": [],
   "source": [
    "veldisp=140.\n",
    "samples = np.random.multivariate_normal(mean=np.zeros(2),cov=np.diag(np.ones(2))*veldisp**2,\n",
    "                                        size=50000)"
   ]
  },
  {
   "cell_type": "code",
   "execution_count": 43,
   "metadata": {
    "collapsed": false
   },
   "outputs": [
    {
     "data": {
      "text/plain": [
       "175.31222113380247"
      ]
     },
     "execution_count": 43,
     "metadata": {},
     "output_type": "execute_result"
    }
   ],
   "source": [
    "np.mean(np.sqrt(samples.T[0]**2+samples.T[1]**2))"
   ]
  },
  {
   "cell_type": "code",
   "execution_count": 46,
   "metadata": {
    "collapsed": false
   },
   "outputs": [
    {
     "data": {
      "image/png": "[encoded data removed]",
      "text/plain": [
       "<matplotlib.figure.Figure at 0x7faa6d5c5190>"
      ]
     },
     "metadata": {},
     "output_type": "display_data"
    }
   ],
   "source": [
    "plt.hist(np.sqrt(samples.T[0]**2+samples.T[1]**2),normed=True);\n",
    "plt.hist(vt,normed=True);plt.show()\n",
    "plt.show()"
   ]
  },
  {
   "cell_type": "code",
   "execution_count": 47,
   "metadata": {
    "collapsed": false
   },
   "outputs": [
    {
     "data": {
      "text/plain": [
       "array([  83.59907531,  158.16799615,  200.25528302,   98.13362431,\n",
       "        278.44076946,  194.55198188,  189.47204848,  189.74986374])"
      ]
     },
     "execution_count": 47,
     "metadata": {},
     "output_type": "execute_result"
    }
   ],
   "source": [
    "vt"
   ]
  },
  {
   "cell_type": "code",
   "execution_count": 48,
   "metadata": {
    "collapsed": false
   },
   "outputs": [
    {
     "data": {
      "text/plain": [
       "0        Carina\n",
       "1         Draco\n",
       "2        Fornax\n",
       "3          LeoI\n",
       "4         LeoII\n",
       "5      Sculptor\n",
       "6    Sextans(I)\n",
       "7     UrsaMinor\n",
       "Name: Name, dtype: object"
      ]
     },
     "execution_count": 48,
     "metadata": {},
     "output_type": "execute_result"
    }
   ],
   "source": [
    "velocities.Name"
   ]
  },
  {
   "cell_type": "code",
   "execution_count": null,
   "metadata": {
    "collapsed": true
   },
   "outputs": [],
   "source": []
  }
 ],
 "metadata": {
  "kernelspec": {
   "display_name": "Python 2",
   "language": "python",
   "name": "python2"
  },
  "language_info": {
   "codemirror_mode": {
    "name": "ipython",
    "version": 2
   },
   "file_extension": ".py",
   "mimetype": "text/x-python",
   "name": "python",
   "nbconvert_exporter": "python",
   "pygments_lexer": "ipython2",
   "version": "2.7.8"
  }
 },
 "nbformat": 4,
 "nbformat_minor": 1
}
