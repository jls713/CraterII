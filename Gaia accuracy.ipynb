{
 "cells": [
  {
   "cell_type": "markdown",
   "metadata": {},
   "source": [
    "There are giant branch stars at $r=18.4$ mag and $(g-r)=0.8$. Torrealba et al. 2016"
   ]
  },
  {
   "cell_type": "code",
   "execution_count": 1,
   "metadata": {
    "collapsed": true
   },
   "outputs": [],
   "source": [
    "from pygaia.errors import astrometric\n",
    "from pygaia.photometry import transformations\n",
    "from pygaia.astrometry import coordinates, vectorastrometry"
   ]
  },
  {
   "cell_type": "code",
   "execution_count": 3,
   "metadata": {
    "collapsed": false
   },
   "outputs": [
    {
     "name": "stdout",
     "output_type": "stream",
     "text": [
      "V= 18.718 G= 18.397867231999996 V-I= 1.12 g-r= 0.8\n"
     ]
    }
   ],
   "source": [
    "gr, r = 0.8, 18.4\n",
    "g = gr+r\n",
    "V=g - 0.59*gr - 0.01\n",
    "VI = gr+0.32\n",
    "G = V+transformations.gminvFromVmini(VI)\n",
    "print 'V=',V, 'G=',G, 'V-I=',VI, 'g-r=',gr"
   ]
  },
  {
   "cell_type": "code",
   "execution_count": 4,
   "metadata": {
    "collapsed": true
   },
   "outputs": [],
   "source": [
    "from astropy.coordinates import SkyCoord, BarycentricTrueEcliptic \n",
    "import astropy.units as u\n",
    "lb = np.array([282.908,42.028]) ## coords of Crater II\n",
    "c = SkyCoord(l=lb[0]*u.degree, b=lb[1]*u.degree, frame='galactic').transform_to(BarycentricTrueEcliptic)"
   ]
  },
  {
   "cell_type": "code",
   "execution_count": 5,
   "metadata": {
    "collapsed": false
   },
   "outputs": [
    {
     "name": "stdout",
     "output_type": "stream",
     "text": [
      "(76.40849455222971, 82.56462918439988) mu as/yr\n"
     ]
    }
   ],
   "source": [
    "print astrometric.properMotionError(G,VI,c.lat.value), 'mu as/yr'"
   ]
  },
  {
   "cell_type": "code",
   "execution_count": null,
   "metadata": {
    "collapsed": true
   },
   "outputs": [],
   "source": []
  }
 ],
 "metadata": {
  "kernelspec": {
   "display_name": "Python 2",
   "language": "python",
   "name": "python2"
  },
  "language_info": {
   "codemirror_mode": {
    "name": "ipython",
    "version": 2
   },
   "file_extension": ".py",
   "mimetype": "text/x-python",
   "name": "python",
   "nbconvert_exporter": "python",
   "pygments_lexer": "ipython2",
   "version": "2.7.8"
  }
 },
 "nbformat": 4,
 "nbformat_minor": 1
}
