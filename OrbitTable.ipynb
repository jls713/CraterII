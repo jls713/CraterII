{
 "cells": [
  {
   "cell_type": "markdown",
   "metadata": {},
   "source": [
    "## Generate table of orbital parameters"
   ]
  },
  {
   "cell_type": "code",
   "execution_count": 1,
   "metadata": {
    "collapsed": true
   },
   "outputs": [],
   "source": [
    "import sys\n",
    "import aa_py\n",
    "%matplotlib inline\n",
    "%load_ext autoreload\n",
    "%autoreload 2\n",
    "from orbit import *\n",
    "import json"
   ]
  },
  {
   "cell_type": "code",
   "execution_count": 2,
   "metadata": {
    "collapsed": false
   },
   "outputs": [
    {
     "name": "stdout",
     "output_type": "stream",
     "text": [
      "Scale radius = 0.725\n",
      "Softening = 0.0515715008184\n",
      "[ 77.12490611 -61.85448954 -83.79479741   1.52467568  20.90325212\n",
      "  -4.44188231]\n",
      "Tidal radius =  9.17369724065\n",
      "Time unit:  0.178011600004\n",
      "Mass fraction inside r_s =  0.0801449676164\n",
      "400000.0\n",
      "Velocity dispersion =  12.6566932528\n",
      "0.17958097576\n",
      "Scale radius = 0.725\n",
      "Softening = 0.0515715008184\n",
      "[-102.3714935   -46.16622771   67.61404953    4.58179312  -36.16510952\n",
      "  -26.53893727]\n",
      "Tidal radius =  9.28130148139\n",
      "Time unit:  0.17742722462\n",
      "Mass fraction inside r_s =  0.079619632505\n",
      "400000.0\n",
      "Velocity dispersion =  12.657029553\n",
      "0.178706332835\n",
      "Scale radius = 0.725\n",
      "Softening = 0.0515715008184\n",
      "[ 91.18573636 -31.23338154 -94.55914586  38.18287615  63.73237362\n",
      "  20.62616672]\n",
      "Tidal radius =  9.56690433209\n",
      "Time unit:  0.175927851494\n",
      "Mass fraction inside r_s =  0.0782796451279\n",
      "400000.0\n",
      "Velocity dispersion =  12.6578679301\n",
      "0.176392982985\n",
      "Scale radius = 0.725\n",
      "Softening = 0.0515715008184\n",
      "[  65.19547321  119.69600718   51.66028503  -82.62837589    9.90109634\n",
      "   67.2656748 ]\n",
      "Tidal radius =  10.3447574722\n",
      "Time unit:  0.172186079983\n",
      "Mass fraction inside r_s =  0.0749852300389\n",
      "400000.0\n",
      "Velocity dispersion =  12.6598104782\n",
      "0.173821208772\n"
     ]
    }
   ],
   "source": [
    "from run_2comp_cluster_vmaxuniversal import generate_simproperties\n",
    "peri = np.zeros(4)\n",
    "apo = np.zeros_like(peri)\n",
    "tidalP = np.zeros_like(apo)\n",
    "tidalA = np.zeros_like(apo)\n",
    "perd = np.zeros_like(tidalP)\n",
    "mass_l = np.zeros_like(tidalP)\n",
    "NP = np.zeros_like(tidalP)\n",
    "PMMAG = np.array([0.05,0.1,0.17,0.25])\n",
    "for i,pmmag in enumerate(PMMAG):\n",
    "    s, ca = 2., 1.0\n",
    "    simprops = generate_simproperties(SegregationParameter=s, propermotionmag=pmmag, flattening=ca,\n",
    "                                     Nparticles=4e5,output_file=False)\n",
    "    eq = crater2_eq()\n",
    "    solar_reflex = crater2_solarreflex()\n",
    "    pm = np.array([pmmag,0.])+solar_reflex\n",
    "    Eq = np.array([eq[0],eq[1],distance,vlos,pm[0],pm[1]])\n",
    "\n",
    "    rs_nfw=simprops['Rscale']\n",
    "    c = simprops['c']\n",
    "    Delta=simprops['Delta']\n",
    "\n",
    "    R,T = integrate_orbits_backwards(Eq)\n",
    "\n",
    "    peri[i],apo[i]=pericentre(R),apocentre(R)\n",
    "    NP[i]=count_pericentres(R)\n",
    "    tidalP[i],tidalA[i]=tidal_radius(pericentre(R),rs_nfw,c=c,Delta=Delta),tidal_radius(apocentre(R),rs_nfw,c=c,Delta=Delta)\n",
    "    perd[i]=period(R,T)/nbody_tools.kms2kpcGyr\n",
    "    mass_l[i]=mass_loss_hayashi(pericentre(R),apocentre(R),1,rs_nfw,c=c,Delta=Delta)"
   ]
  },
  {
   "cell_type": "code",
   "execution_count": 16,
   "metadata": {
    "collapsed": false
   },
   "outputs": [
    {
     "data": {
      "text/plain": [
       "(0.01, 0.39851380844041273)"
      ]
     },
     "execution_count": 16,
     "metadata": {},
     "output_type": "execute_result"
    },
    {
     "data": {
      "image/png": "[encoded data removed]",
      "text/plain": [
       "<matplotlib.figure.Figure at 0x7feb33537810>"
      ]
     },
     "metadata": {},
     "output_type": "display_data"
    }
   ],
   "source": [
    "plt.plot(PMMAG,peri/apo)\n",
    "plt.semilogy()\n",
    "plt.ylim(1e-2,)"
   ]
  },
  {
   "cell_type": "code",
   "execution_count": 17,
   "metadata": {
    "collapsed": false
   },
   "outputs": [
    {
     "data": {
      "text/plain": [
       "[<matplotlib.lines.Line2D at 0x7feb331c6910>]"
      ]
     },
     "execution_count": 17,
     "metadata": {},
     "output_type": "execute_result"
    },
    {
     "data": {
      "image/png": "[encoded data removed]",
      "text/plain": [
       "<matplotlib.figure.Figure at 0x7feb33234f90>"
      ]
     },
     "metadata": {},
     "output_type": "display_data"
    }
   ],
   "source": [
    "plt.plot(PMMAG,perd)"
   ]
  },
  {
   "cell_type": "code",
   "execution_count": 19,
   "metadata": {
    "collapsed": false
   },
   "outputs": [
    {
     "data": {
      "text/plain": [
       "[]"
      ]
     },
     "execution_count": 19,
     "metadata": {},
     "output_type": "execute_result"
    },
    {
     "data": {
      "image/png": "[encoded data removed]",
      "text/plain": [
       "<matplotlib.figure.Figure at 0x7feb33628910>"
      ]
     },
     "metadata": {},
     "output_type": "display_data"
    }
   ],
   "source": [
    "plt.plot(peri/apo,mass_l,'.')\n",
    "plt.semilogy()"
   ]
  },
  {
   "cell_type": "code",
   "execution_count": 3,
   "metadata": {
    "collapsed": false
   },
   "outputs": [
    {
     "name": "stdout",
     "output_type": "stream",
     "text": [
      "\\begin{tabular}{ccccc}\\hline$|\\mu|/\\,\\mathrm{mas\\,yr}^{-1}$&$r_p/\\,\\mathrm{kpc}$&$r_a/\\,\\mathrm{kpc}$&$T_r/\\,\\mathrm{Gyr}$&$r_t(r_p)/\\,\\mathrm{kpc}$\\\\\\hline0.05&4.99&130&1.64&0.139\\\\0.1&13&131&1.75&0.636\\\\0.17&28.4&135&1.99&1.79\\\\0.25&52&146&2.48&3.53\\\\\\hline\\end{tabular}\n"
     ]
    }
   ],
   "source": [
    "table_str = r'\\begin{tabular}{ccccc}\\hline$|\\mu|/\\,\\mathrm{mas\\,yr}^{-1}$'+\\\n",
    "            r'&$r_p/\\,\\mathrm{kpc}$&$r_a/\\,\\mathrm{kpc}$&$T_r/\\,\\mathrm{Gyr}$'+\\\n",
    "            r'&$r_t(r_p)/\\,\\mathrm{kpc}$\\\\\\hline'\n",
    "table_str+=r'\\\\'.join([r'&'.join([r'%0.3g'%p for p in P]) for P in zip(PMMAG,peri,apo,perd,tidalP)])\n",
    "table_str+=r'\\\\\\hline\\end{tabular}'\n",
    "print table_str"
   ]
  },
  {
   "cell_type": "code",
   "execution_count": 4,
   "metadata": {
    "collapsed": false
   },
   "outputs": [
    {
     "data": {
      "text/plain": [
       "6.0"
      ]
     },
     "execution_count": 4,
     "metadata": {},
     "output_type": "execute_result"
    }
   ],
   "source": [
    "NP[2]"
   ]
  },
  {
   "cell_type": "code",
   "execution_count": null,
   "metadata": {
    "collapsed": true
   },
   "outputs": [],
   "source": []
  }
 ],
 "metadata": {
  "kernelspec": {
   "display_name": "Python 2",
   "language": "python",
   "name": "python2"
  },
  "language_info": {
   "codemirror_mode": {
    "name": "ipython",
    "version": 2
   },
   "file_extension": ".py",
   "mimetype": "text/x-python",
   "name": "python",
   "nbconvert_exporter": "python",
   "pygments_lexer": "ipython2",
   "version": "2.7.8"
  }
 },
 "nbformat": 4,
 "nbformat_minor": 1
}
